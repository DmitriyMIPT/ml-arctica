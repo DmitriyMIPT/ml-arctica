{
 "cells": [
  {
   "cell_type": "markdown",
   "metadata": {},
   "source": [
    "# Part 1. Vanilla logistic regression"
   ]
  },
  {
   "cell_type": "markdown",
   "metadata": {},
   "source": [
    "## Recap.\n",
    "\n",
    "### Sigmoid function\n",
    "\n",
    "$$ \\sigma(h) = \\frac{1}{1 + exp(-h)} $$\n",
    "$$ \\sigma(x, w) = \\frac{1}{1 + exp(-<x, w>)} $$\n",
    "\n",
    "### Class predictions\n",
    "\n",
    "$$ P(y = 1 | x, w) = \\sigma(x, w) $$\n",
    "\n",
    "### Log Loss\n",
    "\n",
    "$$ L(y, p) = - \\frac{1}{m}\\sum_{1}^{m}(y_i log(p_i) + (1 - y_i) log(1 - p_i)) $$\n",
    "\n",
    "### Training\n",
    "\n",
    "$$ Q = L(y, p) = L(w) \\rightarrow min $$\n",
    "<br>\n",
    "$$ \\frac{dQ}{dw} = ??? $$\n",
    "<br>\n",
    "<center>Use chain rule and sigmoid function properties!</center>"
   ]
  },
  {
   "cell_type": "code",
   "execution_count": 1,
   "metadata": {},
   "outputs": [],
   "source": [
    "import numpy as np\n",
    "import sklearn\n",
    "from sklearn.datasets import make_classification\n",
    "\n",
    "from matplotlib import pyplot as plt\n",
    "%matplotlib inline"
   ]
  },
  {
   "cell_type": "code",
   "execution_count": 2,
   "metadata": {
    "collapsed": true
   },
   "outputs": [],
   "source": [
    "def logit(x, w):\n",
    "    return <YOUR CODE HERE>\n",
    "\n",
    "def sigmoid(h):\n",
    "    return <YOUR CODE HERE>"
   ]
  },
  {
   "cell_type": "code",
   "execution_count": 3,
   "metadata": {},
   "outputs": [],
   "source": [
    "class VanillaLogisticRegression(object):\n",
    "    '''\n",
    "    A simple logistic regression for binary classification with gradient descent\n",
    "    '''\n",
    "    \n",
    "    def __init__(self, learning_rate=0.1, max_iter=100000, tolerance=1e-15):\n",
    "        # Learning rate for gradient descent\n",
    "        self._lr = learning_rate\n",
    "        \n",
    "        self._max_iter = max_iter\n",
    "        \n",
    "        # How often to print validation info\n",
    "        self._validation_freq = 5000\n",
    "        \n",
    "        # Convergence criteria\n",
    "        self._tolerance = tolerance\n",
    "        \n",
    "        \n",
    "    def fit(self, X, y):\n",
    "        # Add extra dummy feature (x[0] = 1) for bias in linear regression\n",
    "        X = self.__add_intercept(X)\n",
    "        n_objects, n_features = X.shape\n",
    "        \n",
    "        # Initialize randomly\n",
    "        self._weights = np.random.random(n_features)\n",
    "        \n",
    "        # Iterative gradient descent\n",
    "        for i in range(self._max_iter):\n",
    "            '''\n",
    "            Compute logits, gradient, and update weights\n",
    "            '''\n",
    "            # h = ...\n",
    "            # z = ...\n",
    "            \n",
    "            # grad = ...\n",
    "            # self._weights ...\n",
    "            \n",
    "            if <YOUR CODE HERE>:\n",
    "                print(\"Converged in {} iterations!\".format(i))\n",
    "                break\n",
    "            \n",
    "            if i % self._validation_freq == 0:\n",
    "                # Compute probabilities\n",
    "                # p = \n",
    "                \n",
    "                # Clip values for numeric stability in logarithm\n",
    "                p = np.clip(p, 1e-10, 1 - 1e-10)\n",
    "                \n",
    "                # Compute log loss and accuracy\n",
    "                loss = self.__loss(y, p)\n",
    "                acc = np.mean((p >= 0.5) == y)\n",
    "                \n",
    "                print(\"Iteration {}: Loss = {}. Accuracy = {}\".format(i, loss, acc))\n",
    "\n",
    "        \n",
    "    def predict(self, X, threshold=0.5):\n",
    "        X = self.__add_intercept(X)\n",
    "        \n",
    "        return <YOUR CODE HERE>\n",
    "    \n",
    "    \n",
    "    def predict_proba(self, X):\n",
    "        X = self.__add_intercept(X)\n",
    "        \n",
    "        return <YOUR CODE HERE>\n",
    "    \n",
    "    \n",
    "    def __add_intercept(self, X):\n",
    "        return np.concatenate((np.ones((X.shape[0], 1)), X), axis=1)\n",
    "    \n",
    "    \n",
    "    def __loss(self, y, p):\n",
    "        return <YOUR CODE HERE>"
   ]
  },
  {
   "cell_type": "code",
   "execution_count": 4,
   "metadata": {},
   "outputs": [],
   "source": [
    "X, y = sklearn.datasets.make_classification(n_features=2, n_informative=2, n_redundant=0, random_state=0)"
   ]
  },
  {
   "cell_type": "code",
   "execution_count": 5,
   "metadata": {},
   "outputs": [
    {
     "name": "stdout",
     "output_type": "stream",
     "text": [
      "Iteration 0: Loss = -0.7240313574878579. Accuracy = 0.53\n",
      "Iteration 5000: Loss = -0.2607021825362684. Accuracy = 0.93\n",
      "Iteration 10000: Loss = -0.2607021816182718. Accuracy = 0.93\n",
      "Iteration 15000: Loss = -0.2607021816182717. Accuracy = 0.93\n",
      "Converged in 17301 iterations!\n",
      "[ 0.99809371  3.35588318  0.70223695]\n"
     ]
    }
   ],
   "source": [
    "clf = VanillaLogisticRegression()\n",
    "\n",
    "clf.fit(X, y)\n",
    "\n",
    "print(clf._weights)\n",
    "a, b, c = clf._weights"
   ]
  },
  {
   "cell_type": "code",
   "execution_count": null,
   "metadata": {},
   "outputs": [],
   "source": [
    "from matplotlib.colors import ListedColormap\n",
    "\n",
    "fig = plt.figure(figsize=(12, 6))\n",
    "xx, yy = np.meshgrid(np.linspace(-4, 4, 1000), np.linspace(-4, 4, 1000))\n",
    "pred = clf.predict(np.c_[xx.ravel(), yy.ravel()])\n",
    "pred = pred.reshape(xx.shape)\n",
    "plt.pcolormesh(xx, yy, pred, cmap=ListedColormap(['#AAAAFF','#FFAFAF']))\n",
    "\n",
    "plt.scatter(X[:,0], X[:,1], c=y)\n",
    "plt.grid()\n",
    "\n",
    "plt.show()"
   ]
  },
  {
   "cell_type": "code",
   "execution_count": null,
   "metadata": {},
   "outputs": [],
   "source": [
    "fig = plt.figure(figsize=(12, 6))\n",
    "\n",
    "plt.scatter(X[:,0], X[:,1], c=y)\n",
    "\n",
    "xx = np.linspace(-4, 4, 200)\n",
    "yy = -a / c - xx * b / c\n",
    "plt.plot(xx, yy)\n",
    "\n",
    "plt.grid()\n",
    "plt.ylim((-4, 4))\n",
    "\n",
    "plt.show()"
   ]
  },
  {
   "cell_type": "code",
   "execution_count": 8,
   "metadata": {},
   "outputs": [
    {
     "name": "stdout",
     "output_type": "stream",
     "text": [
      "[ 0.99719499  3.35397632  0.70172611]\n",
      "0.93\n"
     ]
    }
   ],
   "source": [
    "from sklearn.linear_model import LogisticRegression\n",
    "from sklearn.metrics import accuracy_score\n",
    "\n",
    "clf = LogisticRegression(C=1000, fit_intercept=True)\n",
    "clf.fit(X, y)\n",
    "y_predicted = clf.predict(X)\n",
    "\n",
    "print(np.append(clf.intercept_, clf.coef_))\n",
    "print(accuracy_score(y, y_predicted))"
   ]
  }
 ],
 "metadata": {
  "kernelspec": {
   "display_name": "Python 3",
   "language": "python",
   "name": "python3"
  },
  "language_info": {
   "codemirror_mode": {
    "name": "ipython",
    "version": 3
   },
   "file_extension": ".py",
   "mimetype": "text/x-python",
   "name": "python",
   "nbconvert_exporter": "python",
   "pygments_lexer": "ipython3",
   "version": "3.6.5"
  }
 },
 "nbformat": 4,
 "nbformat_minor": 2
}
