{
 "cells": [
  {
   "cell_type": "markdown",
   "metadata": {},
   "source": [
    "В рамках конкурса вам нужно предсказать наличие сердечно-сосудистых заболеваний по результатам классического \n",
    "врачебного осмотра. Датасет сформирован и 100.000 реальных клинических анализов, и в нём используются признаки,\n",
    "которые можно разбить на 3 группы:\n",
    "    \n",
    "Объективные признаки:\n",
    "\n",
    "     - Возраст\n",
    "     - Рост\n",
    "     - Вес\n",
    "     - Пол\n",
    "\n",
    "Результаты измерения:\n",
    "\n",
    "     - Артериальное давление верхнее и нижнее\n",
    "     - Холестерин\n",
    "     - Глюкоза\n",
    "\n",
    "Субъективные признаки:\n",
    "\n",
    "     - Курение\n",
    "     - Употребление Алкоголя\n",
    "     - Физическая активность\n",
    "\n",
    "Возраст дан в днях. Значения показателей холестерина и глюкозы представлены одним из трех классов: норма,\n",
    "    выше нормы, значительно выше нормы. Значения субъективных признаков — бинарны.\n",
    "\n",
    "Все показатели даны на момент осмотра.\n",
    " \n",
    "Последняя группа признаков не имеет однозначной интерпретации и более того, собрана со слов самого больного.\n",
    "Поэтому, для части данных в тестовой выборке мы специально исключили эти параметры. Участникам придется либо\n",
    "предсказать их самостоятельно для некоторых случаев, либо вовсе игнорировать."
   ]
  },
  {
   "cell_type": "markdown",
   "metadata": {},
   "source": [
    "import os\n",
    "import pandas as pd"
   ]
  },
  {
   "cell_type": "markdown",
   "metadata": {},
   "source": [
    "import warnings\n",
    "warnings.filterwarnings(\"ignore\")\n",
    "\n",
    "import pandas as pd\n",
    "import matplotlib.pyplot as plt\n",
    "import numpy\n",
    "\n",
    "import seaborn as sns\n",
    "sns.set(style=\"white\", color_codes=True)\n",
    "\n",
    "%matplotlib inline"
   ]
  },
  {
   "cell_type": "markdown",
   "metadata": {},
   "source": [
    "data = pd.read_csv('data/train.csv',sep=\";\")"
   ]
  },
  {
   "cell_type": "markdown",
   "metadata": {
    "scrolled": true
   },
   "source": [
    "#пропуски в данных\n",
    "data.info()"
   ]
  },
  {
   "cell_type": "markdown",
   "metadata": {},
   "source": [
    "data['gender'].value_counts()"
   ]
  },
  {
   "cell_type": "markdown",
   "metadata": {},
   "source": [
    "data.describe()"
   ]
  },
  {
   "cell_type": "markdown",
   "metadata": {},
   "source": [
    "Можно заметить, что имеют место некорректные значения. Работу по коррекции значений можно проводить исходя из общих соображений,\n",
    "также привлекать автоматизированные методы. Выбор тех или иных подходов может быть обусловен условием задачи. Иногда можно просто\n",
    "избавиться от неправильных значений без потерь."
   ]
  },
  {
   "cell_type": "markdown",
   "metadata": {},
   "source": [
    "# Таблицы\n"
   ]
  },
  {
   "cell_type": "markdown",
   "metadata": {},
   "source": [
    "#среднее значение cardio зависит от уровня холестерина\n",
    "data.groupby(['gender','cholesterol'])['cardio'].aggregate('mean').unstack()"
   ]
  },
  {
   "cell_type": "markdown",
   "metadata": {},
   "source": [
    "Между мужчинами и женщинам разницы нет, но зато есть разница у тех, кого холестерин в норме, выше нормы и много выше нормы"
   ]
  },
  {
   "cell_type": "markdown",
   "metadata": {},
   "source": [
    "#среднее значение cardio зависит от уровня сахара\n",
    "data.groupby(['gender','gluc'])['cardio'].aggregate('mean').unstack()"
   ]
  },
  {
   "cell_type": "markdown",
   "metadata": {},
   "source": [
    "Казалось бы логично предположить, что среди людей с сахаром много выше нормы, будет больше больных СС3, \n",
    "но это верно только для мужчин"
   ]
  },
  {
   "cell_type": "markdown",
   "metadata": {},
   "source": [
    "#курение\n",
    "data.groupby(['smoke'])['cardio'].aggregate('mean')"
   ]
  },
  {
   "cell_type": "markdown",
   "metadata": {},
   "source": [
    "#алкоголь\n",
    "data.groupby(['alco'])['cardio'].aggregate('mean')"
   ]
  },
  {
   "cell_type": "markdown",
   "metadata": {},
   "source": [
    "Люди, которые курят и пьют в среднем имеют меньше проблем с сердцем???"
   ]
  },
  {
   "cell_type": "markdown",
   "metadata": {},
   "source": [
    "data.corr()"
   ]
  },
  {
   "cell_type": "markdown",
   "metadata": {},
   "source": [
    "# Потенциальные проблемы"
   ]
  },
  {
   "cell_type": "markdown",
   "metadata": {},
   "source": [
    "## нижние и верхнее давление"
   ]
  },
  {
   "cell_type": "code",
   "execution_count": null,
   "metadata": {},
   "outputs": [],
   "source": [
    "#отобразим верхнее и нижнее давление\n",
    "plt.figure(figsize=(12,8))\n",
    "plt.scatter(data.ap_lo,data.ap_hi,s=9,c=data.cardio,cmap='seismic')\n",
    "plt.colorbar()\n",
    "plt.plot([50,200],[50,200],'--',linewidth=0.8)\n",
    "plt.xlabel('ap_lo')\n",
    "plt.ylabel('al_hi')"
   ]
  },
  {
   "cell_type": "code",
   "execution_count": null,
   "metadata": {},
   "outputs": [],
   "source": []
  },
  {
   "cell_type": "markdown",
   "metadata": {},
   "source": [
    "## вес и рост"
   ]
  },
  {
   "cell_type": "code",
   "execution_count": null,
   "metadata": {},
   "outputs": [],
   "source": [
    "#\n",
    "plt.figure(figsize=(12,8))\n",
    "plt.scatter(data.weight,data.height,s=9,c=data.cardio,cmap='seismic')\n",
    "plt.colorbar()\n",
    "plt.plot([50,200],[50,200],'--',linewidth=0.8)\n",
    "plt.xlabel('weight')\n",
    "plt.ylabel('height')"
   ]
  },
  {
   "cell_type": "markdown",
   "metadata": {},
   "source": [
    "Что сразу бросается в глаза? Есть ли на графике нереалистичные данные? Избавиться от наблюдения или принять его верным?"
   ]
  },
  {
   "cell_type": "markdown",
   "metadata": {},
   "source": [
    "# Спосбо нахождения аномалий"
   ]
  },
  {
   "cell_type": "code",
   "execution_count": null,
   "metadata": {},
   "outputs": [],
   "source": [
    "#диаграмма размаха\n",
    "f, axes = plt.subplots(2,1)\n",
    "\n",
    "sns.boxplot(data.weight, palette=\"PRGn\",ax=axes[0])\n",
    "sns.distplot(data.weight, ax=axes[1])"
   ]
  },
  {
   "cell_type": "code",
   "execution_count": null,
   "metadata": {},
   "outputs": [],
   "source": [
    "f, axes = plt.subplots(2,1)\n",
    "\n",
    "sns.boxplot(data.height, palette=\"PRGn\",ax=axes[0])\n",
    "sns.distplot(data.height, ax=axes[1])"
   ]
  },
  {
   "cell_type": "code",
   "execution_count": null,
   "metadata": {},
   "outputs": [],
   "source": [
    "f, axes = plt.subplots(2,1)\n",
    "\n",
    "sns.boxplot(data.age, palette=\"PRGn\",ax=axes[0])\n",
    "sns.distplot(data.age, ax=axes[1])"
   ]
  },
  {
   "cell_type": "markdown",
   "metadata": {},
   "source": [
    "# иллюстация для диаграммы размах"
   ]
  },
  {
   "cell_type": "markdown",
   "metadata": {},
   "source": [
    "d=[180,147,200,150,130,165]\n"
   ]
  },
  {
   "cell_type": "markdown",
   "metadata": {},
   "source": [
    "sorted(d)"
   ]
  },
  {
   "cell_type": "code",
   "execution_count": null,
   "metadata": {},
   "outputs": [],
   "source": [
    "#среднее"
   ]
  },
  {
   "cell_type": "code",
   "execution_count": null,
   "metadata": {},
   "outputs": [],
   "source": [
    "#медиана"
   ]
  },
  {
   "cell_type": "markdown",
   "metadata": {},
   "source": [
    "d=[180,147,200,150,130,165,300]"
   ]
  },
  {
   "cell_type": "markdown",
   "metadata": {},
   "source": [
    "# произведем очистку данных"
   ]
  },
  {
   "cell_type": "code",
   "execution_count": 57,
   "metadata": {},
   "outputs": [],
   "source": [
    "mask = (data.ap_hi==1)&(data.ap_lo>100)\n",
    "data.loc[mask,'ap_hi']=(data.loc[mask,'ap_hi']*100+(data.loc[mask,'ap_lo']//100))\n",
    "data.loc[mask,'ap_lo'] = (data.loc[mask,'ap_lo'].mod(100)//10)*10\n",
    "data.loc[data.ap_hi==14900,'ap_hi']=140\n",
    "data.loc[data.ap_hi>4000,'ap_hi']//=100\n",
    "mask = (data.ap_lo==0)&(data.ap_hi>=300)\n",
    "data.loc[mask,'ap_hi'],data.loc[mask,'ap_lo']=data.loc[mask,'ap_hi']//10,data.loc[mask,'ap_hi'].mod(10)*10\n",
    "data.loc[data.ap_hi.isin([400,401]),'ap_hi']=140\n",
    "data.loc[data.ap_hi==701,'ap_hi']=170\n",
    "data.loc[data.ap_hi==1420,'ap_hi']=140\n",
    "data.loc[data.ap_hi==1620,'ap_hi']=160\n",
    "data.loc[data.ap_hi.isin([1130,1110]),'ap_hi']=110\n",
    "data.loc[data.ap_hi==960,'ap_hi']=90\n",
    "data.loc[data.ap_hi==300,'ap_hi']=10\n",
    "data.loc[data.ap_hi>=240,'ap_hi']=(data.loc[data.ap_hi>=240,'ap_hi']//100)*10\n",
    "\n",
    "data.loc[data.ap_lo==4100,'ap_lo']=140\n",
    "data.loc[data.ap_lo==10000,'ap_lo']=100\n",
    "data.loc[data.ap_lo==5700,'ap_lo']=75\n",
    "data.loc[data.ap_lo==6800,'ap_lo']=80\n",
    "data.loc[data.ap_lo==4700,'ap_lo']=70\n",
    "data.loc[data.ap_lo==1100,'ap_lo']=110\n",
    "\n",
    "data.loc[data.ap_lo>=4000,'ap_lo']=(data.loc[data.ap_lo>=4000,'ap_lo']//1000)*10\n",
    "data.loc[data.ap_lo==1900,'ap_lo']=90\n",
    "data.loc[data.ap_lo==1211,'ap_lo']=120\n",
    "data.loc[data.ap_lo>=1200,'ap_lo']//=10\n",
    "data.loc[data.ap_lo>=1100,'ap_lo']=(data.loc[data.ap_lo>=1100,'ap_lo']//100)*10\n",
    "data.loc[data.ap_lo>=1000,'ap_lo']=100\n",
    "data.loc[data.ap_lo==570,'ap_lo']=75\n",
    "data.loc[data.ap_lo.isin([850,855]),'ap_lo']=85\n",
    "data.loc[data.ap_lo>=300,'ap_lo']=(data.loc[data.ap_lo>=300,'ap_lo']//100)*10\n"
   ]
  },
  {
   "cell_type": "code",
   "execution_count": null,
   "metadata": {},
   "outputs": [],
   "source": []
  },
  {
   "cell_type": "markdown",
   "metadata": {},
   "source": [
    "#диаграмма размаха\n",
    "f, axes = plt.subplots(2,1)\n",
    "\n",
    "sns.boxplot(data.weight, palette=\"PRGn\",ax=axes[0])\n",
    "sns.distplot(data.weight, ax=axes[1])"
   ]
  },
  {
   "cell_type": "markdown",
   "metadata": {},
   "source": [
    "f, axes = plt.subplots(2,1)\n",
    "\n",
    "sns.boxplot(data.height, palette=\"PRGn\",ax=axes[0])\n",
    "sns.distplot(data.height, ax=axes[1])"
   ]
  },
  {
   "cell_type": "code",
   "execution_count": null,
   "metadata": {},
   "outputs": [],
   "source": [
    "data.corr()"
   ]
  },
  {
   "cell_type": "code",
   "execution_count": null,
   "metadata": {},
   "outputs": [],
   "source": [
    "sns.pairplot(data[['age','height','weight']],size=3)"
   ]
  },
  {
   "cell_type": "markdown",
   "metadata": {},
   "source": [
    "data.describe()"
   ]
  },
  {
   "cell_type": "markdown",
   "metadata": {},
   "source": [
    "# посмотрим на распределение признаков в наборе данных"
   ]
  },
  {
   "cell_type": "code",
   "execution_count": null,
   "metadata": {},
   "outputs": [],
   "source": [
    "#рост,вес,возраст\n",
    "data_long = pd.melt(data[['height','weight','gender']],\"gender\",var_name=\"feature\")\n",
    "g= sns.FacetGrid(data_long, col=\"feature\",hue=\"gender\",col_wrap=2,sharex=False,size=6,legend_out=True)\n",
    "g.map(sns.distplot,\"value\")"
   ]
  },
  {
   "cell_type": "code",
   "execution_count": null,
   "metadata": {},
   "outputs": [],
   "source": [
    "#сколько мужчин, женищн в соотношении cardio 1/0 у мужчин и женщин\n",
    "fig, (axis1,axis2)=plt.subplots(1,2,figsize=(15,5))\n",
    "fig, (axis3,axis4)=plt.subplots(1,2,figsize=(15,5))\n",
    "\n",
    "sns.countplot(x='gender',data=data,ax=axis1)\n",
    "sns.countplot(x='cardio',hue=\"gender\",data=data,order=[1,0],ax=axis2)\n",
    "\n",
    "\n",
    "data_gluc = data[[\"gluc\",\"cardio\"]].groupby(['gluc'],as_index=False).mean()\n",
    "sns.barplot(x='gluc', y='cardio',data=data_gluc,order=[1,2,3],ax=axis3)\n",
    "\n",
    "data_gluc = data[[\"cholesterol\",\"cardio\"]].groupby([\"cholesterol\"],as_index=False).mean()\n",
    "sns.barplot(x='cholesterol',y='cardio',data=data_gluc,order=[1,2,3],ax=axis4)"
   ]
  },
  {
   "cell_type": "code",
   "execution_count": 68,
   "metadata": {},
   "outputs": [
    {
     "ename": "SyntaxError",
     "evalue": "positional argument follows keyword argument (<ipython-input-68-4797eb637b95>, line 4)",
     "output_type": "error",
     "traceback": [
      "\u001b[1;36m  File \u001b[1;32m\"<ipython-input-68-4797eb637b95>\"\u001b[1;36m, line \u001b[1;32m4\u001b[0m\n\u001b[1;33m    sns.countplot(x='alco',data=data,axis1)\u001b[0m\n\u001b[1;37m                                    ^\u001b[0m\n\u001b[1;31mSyntaxError\u001b[0m\u001b[1;31m:\u001b[0m positional argument follows keyword argument\n"
     ]
    }
   ],
   "source": [
    "#сколько больных в зависимости от алкоголя\n",
    "fig, (axis1,axis2)=plt.subplots(1,2,figsize=(15,5))\n",
    "\n",
    "sns.countplot(x='alco',data=data,ax= axis1)\n",
    "sns.countplot(x='cardio',hue=\"alco\",data=data,order=[1,0],ax=axis2)\n",
    "\n",
    "#сколько больных в зависимости от курения\n",
    "fig, (axis3,axis4)=plt.subplot(1,2,figsize=(15,5))\n",
    "\n",
    "sns.countplot(x='smoke',data=data,axis1)\n",
    "sns.countplot(x='cardio', hue=\"smoke\",data=data,order=[1,0],ax=axis4)\n",
    "\n",
    "#сколько занимаются спортом\n",
    "fig, (axis5,axis6)=plt.subplot(1,2,figsize=(15,5))\n",
    "\n",
    "sns.countplot(x='active',data=data,axis1)\n",
    "sns.countplot(x='cardio',hue=\"active\",data=data,order=[1,0],ax=axis2)"
   ]
  },
  {
   "cell_type": "code",
   "execution_count": null,
   "metadata": {},
   "outputs": [],
   "source": [
    "#посмортим на возраст, но сначал преобразуем его\n",
    "data['age']=data['age']/365.25\n",
    "sns.distplot(data['age'],label=\"Age\",bins=100)"
   ]
  },
  {
   "cell_type": "code",
   "execution_count": null,
   "metadata": {},
   "outputs": [],
   "source": [
    "plt.figure(figsize=(12,8))\n",
    "plt.scatter(data.ap_lo,data.ap_hi,s=9,c=data.cardio,cmap='seismic')\n",
    "plt.colorbar()\n",
    "plt.plot([50,200],[50,200],'--',linewidth=0.8)\n",
    "plt.xlabel('ap_lo')\n",
    "plt.ylabel('al_hi')"
   ]
  },
  {
   "cell_type": "markdown",
   "metadata": {},
   "source": []
  },
  {
   "cell_type": "code",
   "execution_count": null,
   "metadata": {},
   "outputs": [],
   "source": []
  }
 ],
 "metadata": {
  "kernelspec": {
   "display_name": "Python 3",
   "language": "python",
   "name": "python3"
  },
  "language_info": {
   "codemirror_mode": {
    "name": "ipython",
    "version": 3
   },
   "file_extension": ".py",
   "mimetype": "text/x-python",
   "name": "python",
   "nbconvert_exporter": "python",
   "pygments_lexer": "ipython3",
   "version": "3.7.3"
  }
 },
 "nbformat": 4,
 "nbformat_minor": 2
}
