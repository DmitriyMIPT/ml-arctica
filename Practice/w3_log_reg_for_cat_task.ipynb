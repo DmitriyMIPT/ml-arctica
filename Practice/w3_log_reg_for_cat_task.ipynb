{
 "cells": [
  {
   "cell_type": "markdown",
   "metadata": {},
   "source": [
    "# Part 2. Cat picture algorithm classification"
   ]
  },
  {
   "cell_type": "markdown",
   "metadata": {},
   "source": [
    "## Recap.\n",
    "\n",
    "### Sigmoid function\n",
    "\n",
    "$$ \\sigma(h) = \\frac{1}{1 + exp(-h)} $$\n",
    "$$ \\sigma(x, w) = \\frac{1}{1 + exp(-<x, w>)} $$\n",
    "\n",
    "### Class predictions\n",
    "\n",
    "$$ P(y = 1 | x, w) = \\sigma(x, w) $$\n",
    "\n",
    "### Log Loss\n",
    "\n",
    "$$ L(y, p) = - \\frac{1}{m}\\sum_{1}^{m}(y_i log(p_i) + (1 - y_i) log(1 - p_i)) $$\n",
    "\n",
    "### Training\n",
    "\n",
    "$$ Q = L(y, p) = L(w) \\rightarrow min $$\n",
    "<br>\n",
    "$$ \\frac{dQ}{dw} = ??? $$\n",
    "<br>\n",
    "<center>Use chain rule and sigmoid function properties!</center>"
   ]
  },
  {
   "cell_type": "code",
   "execution_count": 2,
   "metadata": {},
   "outputs": [],
   "source": [
    "import numpy as np\n",
    "import sklearn\n",
    "from sklearn.datasets import make_classification\n",
    "\n",
    "from matplotlib import pyplot as plt\n",
    "import numpy as np\n",
    "import matplotlib.pyplot as plt\n",
    "import h5py\n",
    "import scipy\n",
    "from PIL import Image\n",
    "from scipy import ndimage\n",
    "\n",
    "import skimage\n"
   ]
  },
  {
   "cell_type": "code",
   "execution_count": 3,
   "metadata": {},
   "outputs": [],
   "source": [
    "def load_dataset():\n",
    "    train_data = h5py.File(r\"data\\train_catvnoncat.h5\", \"r\")\n",
    "    train_set_x_orig = np.array(train_data[\"train_set_x\"][:]) # признаки\n",
    "    train_set_y_orig = np.array(train_data[\"train_set_y\"][:]) # метки классов\n",
    "\n",
    "    test_data = h5py.File(r\"data\\test_catvnoncat.h5\", \"r\")\n",
    "    test_set_x_orig = np.array(test_data[\"test_set_x\"][:]) # признаки\n",
    "    test_set_y_orig = np.array(test_data[\"test_set_y\"][:]) # метки классов\n",
    "\n",
    "    classes = np.array(test_data[\"list_classes\"][:]) # the list of classes\n",
    "    classes = np.array(list(map(lambda x: x.decode('utf-8'), classes)))\n",
    "    \n",
    "    train_set_y = train_set_y_orig.reshape(train_set_y_orig.shape[0])\n",
    "    test_set_y = test_set_y_orig.reshape(test_set_y_orig.shape[0])\n",
    "    return train_set_x_orig, train_set_y, test_set_x_orig, test_set_y, classes"
   ]
  },
  {
   "cell_type": "code",
   "execution_count": 6,
   "metadata": {},
   "outputs": [
    {
     "data": {
      "application/vnd.jupyter.widget-view+json": {
       "model_id": "149ea9c76ab746a2b9bb09dda44cd557",
       "version_major": 2,
       "version_minor": 0
      },
      "text/plain": [
       "interactive(children=(IntSlider(value=0, description='i', max=208), Output()), _dom_classes=('widget-interact'…"
      ]
     },
     "metadata": {},
     "output_type": "display_data"
    },
    {
     "data": {
      "text/plain": [
       "<function __main__.show_image_interact(i=0)>"
      ]
     },
     "execution_count": 6,
     "metadata": {},
     "output_type": "execute_result"
    }
   ],
   "source": [
    "from ipywidgets import interact, interactive, fixed, interact_manual\n",
    "import ipywidgets as widgets\n",
    "\n",
    "def show_image_interact(i=0):\n",
    "    f, ax = plt.subplots(1,4, figsize=(15,20), sharey=True)\n",
    "    \n",
    "    ax[0].imshow(train_set_x_orig[i])\n",
    "    ax[0].set_title('RGB image')\n",
    "    ax[1].imshow(train_set_x_orig[i][:,:,0], cmap='gray')\n",
    "    ax[1].set_title('R channel')\n",
    "    ax[2].imshow(train_set_x_orig[i][:,:,1], cmap='gray')\n",
    "    ax[2].set_title('G channel')\n",
    "    ax[3].imshow(train_set_x_orig[i][:,:,2], cmap='gray')\n",
    "    ax[3].set_title('B channel')\n",
    "    \n",
    "    print(\"y = {} belongs to '{}' class.\".format(str(train_set_y[i]),classes[np.squeeze(train_set_y[i])]))\n",
    "\n",
    "train_set_x_orig, train_set_y, test_set_x_orig, test_set_y, classes = load_dataset()\n",
    "interact(show_image_interact,\n",
    "         i=widgets.IntSlider(min=0, max=len(train_set_y)-1, step=1))"
   ]
  },
  {
   "cell_type": "code",
   "execution_count": 2,
   "metadata": {},
   "outputs": [],
   "source": [
    "def logit(x, w):\n",
    "    return np.dot(x, w)\n",
    "\n",
    "def sigmoid(h):\n",
    "    return 1. / (1 + np.exp(-h))"
   ]
  },
  {
   "cell_type": "code",
   "execution_count": 3,
   "metadata": {},
   "outputs": [],
   "source": [
    "\n",
    "def init_proc( learning_rate=0.1, max_iter=2000, tolerance=1e-15):\n",
    "    # Learning rate for gradient descent\n",
    "    lr = learning_rate\n",
    "\n",
    "    max_iter = max_iter\n",
    "\n",
    "    # How often to print validation info\n",
    "    val_freq = 100\n",
    "\n",
    "    # For convergence criteria\n",
    "    tol = tolerance\n",
    "\n",
    "def fit( w, w0, X, y, num_iterations, learning_rate, print_cost = False , tolerance=1e-15, val_freq=100):\n",
    "    \n",
    "    costs = []\n",
    "    max_iter = num_iterations\n",
    "    lr = learning_rate\n",
    "    # Add extra dummy feature (x[0] = 1) for bias in linear regression\n",
    "    #X = self.__add_intercept(X)\n",
    "    n_features, n_objects = X.shape\n",
    "\n",
    "    # Initialize randomly\n",
    "    w = np.random.random(n_features)\n",
    "    w = w.reshape(X.shape[0], 1)\n",
    "    w0 = np.random.random(1)\n",
    "\n",
    "    # Iterative gradient descent\n",
    "    print(\"X shape:{}\", format(X.shape))\n",
    "    print(\"Y shape:{}\", format(y.shape))\n",
    "    print(\"w shape:{}\", format(w.shape))\n",
    "    print(\"w0 shape:{}\", format(w0.shape))\n",
    "    z = sigmoid(np.dot(w.T, X) +w0)\n",
    "    print(\"z shape:{}\", format(z.shape))\n",
    "    \n",
    "    #return  w,w0, costs \n",
    "    for i in range(max_iter):\n",
    "        #h = logit(X, self._weights)\n",
    "        #z = sigmoid(h)\n",
    "        \n",
    "        #(z-y).shape\n",
    "        z = sigmoid(np.dot(w.T, X) +w0)\n",
    "\n",
    "        grad = #####\n",
    "        grad0 = ####\n",
    "\n",
    "        w -= lr * grad\n",
    "        w0 -= lr * grad0\n",
    "\n",
    "        #terminater proc\n",
    "        if (np.linalg.norm(lr * grad) < tolerance):\n",
    "            print(\"Converged in {} iterations!\".format(i))\n",
    "            break\n",
    "\n",
    "        #print iter proc\n",
    "        if i % val_freq == 0:\n",
    "            p = z\n",
    "\n",
    "            # Clip values for numeric stability in logarithm\n",
    "            p = np.clip(p, 1e-10, 1 - 1e-10)\n",
    "            \n",
    "            # Compute log loss and accuracy\n",
    "            ls = loss(y, p)\n",
    "            acc = np.mean((p >= 0.5) == y)\n",
    "            costs.append(ls)\n",
    "            \n",
    "            print(\"Iteration {}: Loss = {}. Accuracy = {}\".format(i, ls, acc))\n",
    "\n",
    "    return w,w0, costs \n",
    "\n",
    "\n",
    "def loss( y, p):\n",
    "    return  ######\n",
    "\n",
    "def predict(w, w0, X):\n",
    "\n",
    "    m = X.shape[1]\n",
    "    Y_prediction = np.zeros((1,m))\n",
    "    w = w.reshape(X.shape[0], 1)\n",
    "\n",
    "    # Compute vector \"A\" predicting the probabilities of a cat being present in the picture\n",
    "    ### START CODE HERE ### (≈ 1 line of code)\n",
    "    A = sigmoid(np.dot(w.T, X) +w0)\n",
    "    ### END CODE HERE ###\n",
    "\n",
    "    #[print(x) for x in A]\n",
    "    for i in range(A.shape[1]):\n",
    "\n",
    "        # Convert probabilities A[0,i] to actual predictions p[0,i]\n",
    "        ### START CODE HERE ### (≈ 4 lines of code)\n",
    "\n",
    "        ### END CODE HERE ###\n",
    "    assert(Y_prediction.shape == (1, m))\n",
    "\n",
    "    return Y_prediction\n",
    "\n",
    "def model(X_train, Y_train, X_test, Y_test, num_iterations = 2000, learning_rate = 0.5, print_cost = False):\n",
    "\n",
    "    w_init = np.zeros(shape=(X_train.shape[0], 1), dtype=np.float32)\n",
    "    w0_init = 0\n",
    "    \n",
    "    # Gradient descent (≈ 1 line of code)\n",
    "        \n",
    "    w, w0, costs = fit(w_init, w0_init, X_train, Y_train, num_iterations, learning_rate, print_cost)\n",
    "\n",
    "    print(\"X_test shape:{}\", format(X_test.shape))\n",
    "    Y_prediction_test = predict(w, w0, X_test)\n",
    "    Y_prediction_train = predict(w, w0, X_train)\n",
    "\n",
    "    return Y_prediction_test, Y_prediction_train, costs #Y_prediction_test, Y_prediction_train, costs"
   ]
  },
  {
   "cell_type": "code",
   "execution_count": null,
   "metadata": {},
   "outputs": [],
   "source": []
  },
  {
   "cell_type": "markdown",
   "metadata": {},
   "source": [
    "#### Загрузка данных"
   ]
  },
  {
   "cell_type": "code",
   "execution_count": 7,
   "metadata": {},
   "outputs": [],
   "source": [
    "train_set_x_orig, train_set_y, test_set_x_orig, test_set_y, classes = load_dataset()"
   ]
  },
  {
   "cell_type": "code",
   "execution_count": 9,
   "metadata": {},
   "outputs": [],
   "source": [
    "m_train = train_set_x_orig.shape[0]\n",
    "m_test = test_set_x_orig.shape[0]\n",
    "num_px = train_set_x_orig.shape[2]"
   ]
  },
  {
   "cell_type": "markdown",
   "metadata": {},
   "source": [
    "#### предобработка данных"
   ]
  },
  {
   "cell_type": "code",
   "execution_count": null,
   "metadata": {},
   "outputs": [],
   "source": [
    "train_set_x_flatten = ####\n",
    "test_set_x_flatten = #####\n",
    "\n",
    "train_set_x =   ####\n",
    "test_set_x = ####\n",
    "\n",
    "len(train_set_x)"
   ]
  },
  {
   "cell_type": "code",
   "execution_count": null,
   "metadata": {},
   "outputs": [],
   "source": []
  },
  {
   "cell_type": "markdown",
   "metadata": {},
   "source": [
    "#### Основная вычислительня процедура\n"
   ]
  },
  {
   "cell_type": "code",
   "execution_count": null,
   "metadata": {},
   "outputs": [],
   "source": [
    "\n",
    "y_predict_test, y_predict_train, costs = model(train_set_x, train_set_y, test_set_x, test_set_y, num_iterations = 2000, learning_rate = 0.005, print_cost = True)"
   ]
  },
  {
   "cell_type": "markdown",
   "metadata": {},
   "source": [
    "#### сранение результатов работы алгоритма поэлементно"
   ]
  },
  {
   "cell_type": "code",
   "execution_count": null,
   "metadata": {},
   "outputs": [],
   "source": [
    "y_predict_test.astype(int)"
   ]
  },
  {
   "cell_type": "code",
   "execution_count": null,
   "metadata": {},
   "outputs": [],
   "source": [
    "test_set_y"
   ]
  },
  {
   "cell_type": "markdown",
   "metadata": {},
   "source": [
    "### Вывод иллюстрации"
   ]
  },
  {
   "cell_type": "code",
   "execution_count": null,
   "metadata": {},
   "outputs": [],
   "source": [
    "# Example of a picture that was wrongly classified.\n",
    "index = 5\n",
    "plt.imshow(test_set_x[:,index].reshape((num_px, num_px, 3)))\n",
    "print (\"y = \" + str(test_set_y[index]) + \", you predicted that it is a \\\"\" + classes[int(y_predict_test[0,index])] +  \"\\\" picture.\")"
   ]
  },
  {
   "cell_type": "markdown",
   "metadata": {},
   "source": [
    "#### Вывод кривой ошибок"
   ]
  },
  {
   "cell_type": "code",
   "execution_count": null,
   "metadata": {},
   "outputs": [],
   "source": [
    "# Plot learning curve (with costs)\n",
    "costs = np.squeeze(costs)\n",
    "plt.plot(costs)\n",
    "plt.ylabel('cost')\n",
    "plt.xlabel('iterations (per hundreds)')\n",
    "plt.title(\"Learning rate =\" + str(learning_rate))\n",
    "plt.show()"
   ]
  },
  {
   "cell_type": "code",
   "execution_count": null,
   "metadata": {},
   "outputs": [],
   "source": []
  }
 ],
 "metadata": {
  "kernelspec": {
   "display_name": "Python 3",
   "language": "python",
   "name": "python3"
  },
  "language_info": {
   "codemirror_mode": {
    "name": "ipython",
    "version": 3
   },
   "file_extension": ".py",
   "mimetype": "text/x-python",
   "name": "python",
   "nbconvert_exporter": "python",
   "pygments_lexer": "ipython3",
   "version": "3.7.3"
  }
 },
 "nbformat": 4,
 "nbformat_minor": 2
}
